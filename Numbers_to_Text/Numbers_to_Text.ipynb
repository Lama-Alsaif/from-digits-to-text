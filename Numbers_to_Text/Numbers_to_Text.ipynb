{
  "cells": [
    {
      "cell_type": "code",
      "execution_count": 60,
      "metadata": {
        "id": "_e8nH76XqVJy"
      },
      "outputs": [],
      "source": [
        "#  as leenas\n",
        "# this contains the dictionaries were the numbers will be converted into words\n",
        "ahaad = {0:\"\", \n",
        "         1:\"واحد\", 2:\"اثنين\", 3:\"ثلاثة\", 4:\"اربعة\", 5:\"خمسة\",\n",
        "         6:\"ستة\",\n",
        "         7:\"سبعة\"\n",
        "         , 8:\"ثمانية\"\n",
        "         , 9:\"تسعة\"\n",
        "         }\n",
        "\n",
        "taash = { 11:\"احدعش\", 12:\"اثنعش\", 13:\"ثلاثطعش\", 14:\"اربعطعش\", 15:\"خمسطعش\", 16:\"ستطعش\",\n",
        "         17:\"سبعطعش\", 18:\"ثمانطعش\", 19:\"تسعطعش\",\n",
        "          10 : \"عشرة\"}\n",
        "\n",
        "\n",
        "ashrat = {20:\"عشرين\", \n",
        "         50:\"خمسين\", 30:\"ثلاثين\",40:\"اربعين\", 50:\"خمسين\",\n",
        "         60:\"ستين\",\n",
        "         70:\"سبعين\"\n",
        "         , 80:\"ثمانين\"\n",
        "         , 90:\"تسعين\"\n",
        "         \n",
        "         }\n",
        "\n",
        "myaat = {100:\"مية\", \n",
        "         200:\"ميتين\"\n",
        "         , 300:\"ثلاثمية\"\n",
        "         ,400:\"اربعمية\"\n",
        "         , 500:\"خمسمية\",\n",
        "         600:\"ستمية\",\n",
        "         700:\"سبعمية\"\n",
        "         , 800:\"ثمانمية\"\n",
        "         , 900:\"تسعمية\"\n",
        "         }\n",
        "\n",
        "olouf = {1000:\"الف\", \n",
        "         2000:\"الفين\"\n",
        "         , 3000:\" ثلاث آلاف\"\n",
        "         ,4000:\"اربع آلاف\"\n",
        "         , 5000:\"خمس آلاف\",\n",
        "         6000:\"ست آلاف\",\n",
        "         7000:\"سبع آلاف\"\n",
        "         , 8000:\"ثمان آلاف\"\n",
        "         , 9000:\"تسع آلاف\"\n",
        "         }\n",
        "\n",
        "tenOlouf = {10000:\"عشر آلاف\", \n",
        "         20000:\"عشرين ألف\"\n",
        "         , 30000:\" ثلاثين ألف\"\n",
        "         ,40000:\"اربعين ألف\"\n",
        "         , 50000:\"خمسين ألف\",\n",
        "         60000:\"ستين ألف\",\n",
        "         70000:\"سبعين ألف\"\n",
        "         , 80000:\"ثمانين ألف\"\n",
        "         , 90000:\"تسعين ألف\"\n",
        "         }\n",
        "value=\"\"\n",
        "flag= \"\" #spot bugs"
      ]
    },
    {
      "cell_type": "code",
      "execution_count": 61,
      "metadata": {
        "colab": {
          "base_uri": "https://localhost:8080/"
        },
        "id": "LyIkaB5tqwAl",
        "outputId": "b5731a73-57e2-4f8b-fbc1-495a82f1948f"
      },
      "outputs": [
        {
          "name": "stdout",
          "output_type": "stream",
          "text": [
            "ثلاثطعش\n"
          ]
        }
      ],
      "source": [
        "# test the above code if it gives the right numbers\n",
        "print(taash[13])"
      ]
    },
    {
      "cell_type": "markdown",
      "metadata": {
        "id": "x9RTfPu0rqv-"
      },
      "source": [
        "this method deals with the last 2 digits from the righ(**tens**)\n",
        "\n",
        "---\n",
        "\n"
      ]
    },
    {
      "cell_type": "code",
      "execution_count": 62,
      "metadata": {
        "id": "9OSDqAY8q-M2"
      },
      "outputs": [],
      "source": [
        "def tens(num):\n",
        "    global flag\n",
        "    num = str(num)#convert number to string \n",
        "\n",
        "    #test if number dosn't countain any tens\n",
        "    if num[0]==\"0\":\n",
        "        if num[1] != \"0\":\n",
        "            return ahaad[int(num[1])]\n",
        "        else:\n",
        "            return ''\n",
        "\n",
        "    #if it dose have tens then check if it belongs to teens\n",
        "    elif num[0] == \"1\":\n",
        "        return taash[int(num)]\n",
        "    \n",
        "    elif num[1] == \"0\": \n",
        "        return ashrat[int(num)]\n",
        "        \n",
        "    else:#if it containes a number then print it and take the values from the dictionary above \n",
        "        return (ahaad[int(num[len(num)-1])]+\" و \" + ashrat[int(num[len(num)-2]+\"0\")])"
      ]
    },
    {
      "cell_type": "markdown",
      "metadata": {
        "id": "DCx9X9UwSfx7"
      },
      "source": [
        "this method deals with the last 3 digits from the righ(**hunderds**)\n",
        "\n"
      ]
    },
    {
      "cell_type": "code",
      "execution_count": 63,
      "metadata": {
        "id": "MZZjcr-irpBb"
      },
      "outputs": [],
      "source": [
        "def hundrands(num):\n",
        "    global flag\n",
        "    global value\n",
        "    num = str(num)#convert number to string \n",
        "    #test if number dosn't countain any hunderds\n",
        "\n",
        "    if num[0]=='0':\n",
        "        return tens(num[1:])\n",
        "\n",
        "    elif (num[1]==\"0\" and num[2]==\"0\"):#100, 200, 300, ...\n",
        "        return myaat[int(num)]\n",
        "         \n",
        "    elif num[1]==\"0\" and num[2]!='0':#102,103,205,...\n",
        "        return myaat[int(num[0:2]+\"0\")]+\" و \" +ahaad[int(num[2])]\n",
        "    \n",
        "    elif num[1]==\"1\" :#112, 212, 114, ...\n",
        "        return myaat[int(num[0]+\"00\")]+\" و \" +taash[int(num[1]+num[2])] \n",
        "    \n",
        "    elif num[2]=='0':#120, 230, 130, ...\n",
        "        return myaat[int(num[0]+\"00\")]+\" و \" +ashrat[int(num[1]+\"0\")]\n",
        "    \n",
        "    else :\n",
        "        return myaat[int(num[0]+\"00\")]+\" و \"+tens(num[1:])"
      ]
    },
    {
      "cell_type": "markdown",
      "metadata": {
        "id": "w23MBDgMbpNs"
      },
      "source": [
        "this method deals with the last 4 digits from the righ(**thousands**)\n"
      ]
    },
    {
      "cell_type": "code",
      "execution_count": 64,
      "metadata": {
        "id": "qrd3apEoSfx9"
      },
      "outputs": [],
      "source": [
        "def thousands(num):\n",
        "    global value\n",
        "    num = str(num)#convert number to string \n",
        "    #test if number dosn't countain any thousands\n",
        "    \n",
        "\n",
        "    #thousands\n",
        "    \n",
        "    if len(num) == 4:\n",
        "        if num[0]=='0' :\n",
        "            return hundrands(num[1:])\n",
        "        elif num[1:] == \"000\":\n",
        "            return olouf[int(num)]\n",
        "        else:\n",
        "            return olouf[int(num[0]+\"000\")]+\" و \"+hundrands(num[1:])\n",
        "    \n",
        "    #ten thousands\n",
        "    elif len(num)==5:\n",
        "        if num[0]=='0' :\n",
        "            return thousands(num[1:])\n",
        "        if(num[1:]=='0000'):\n",
        "            return tenOlouf[int(num)]\n",
        "        elif num[1] ==\"0\":\n",
        "            return tenOlouf[int(num[0]+\"0000\")]+\" و \"+hundrands(num[2:])\n",
        "        elif num[1] != \"0\" and num[2:]==\"000\":\n",
        "            return tens(num[:2])+\" الف  \"\n",
        "        elif num[1] != \"0\" :\n",
        "            return tens(num[:2])+\" الف و \"+hundrands(num[2:])\n",
        "\n",
        "\n",
        "    #hundred thousand\n",
        "    elif len(num)==6:\n",
        "        if num[0]=='0' :\n",
        "            return thousands(num[1:])\n",
        "        if(num[1:]=='00000'):\n",
        "            return myaat[int(num[:3])]+\" الف \"\n",
        "        elif num[0] !=\"0\" and num[3:] == '000':\n",
        "            return hundrands(num[:3])+\" الف \"+hundrands(num[3:])\n",
        "        else:\n",
        "            return hundrands(num[:3])+\" الف و \"+hundrands(num[3:])"
      ]
    },
    {
      "cell_type": "code",
      "execution_count": 65,
      "metadata": {},
      "outputs": [],
      "source": [
        "def millions(num):\n",
        "    global value\n",
        "    num = str(num)\n",
        "    \n",
        "    # 1000000 one million\n",
        "    if len(num) == 7:\n",
        "        if num[0]=='0' :\n",
        "            return thousands(num[1:])\n",
        "        if num[1:] == \"000000\":\n",
        "            if num[0] == '1':\n",
        "                return \"مليون\"\n",
        "            elif num[0] == '2':\n",
        "                return \"مليونين\"\n",
        "            else:\n",
        "                return ahaad[int(num[0])]+\" مليون \"\n",
        "        else:\n",
        "            return  ahaad[int(num[0])]+\" مليون و \" + thousands(num[1:])\n",
        "\n",
        "    # 10000000 ten million\n",
        "    elif len(num) == 8:\n",
        "        if num[0]=='0' :\n",
        "            return millions(num[1:])\n",
        "        if num[1:] == \"0000000\":\n",
        "            return tens(num[:2]) + \" مليون \"\n",
        "        else :\n",
        "            return  tens(num[:2])  +\" مليون و \" + thousands(num[2:])\n",
        "\n",
        "    # 100000000 one hundred million\n",
        "    elif len(num) == 9:\n",
        "        if num[0]=='0' :\n",
        "            return millions(num[1:])\n",
        "        if num[1:] == \"00000000\":\n",
        "            return hundrands(num[:3]) + \" مليون \"\n",
        "        else:\n",
        "            return  hundrands(num[:3])  +\" مليون و \" + thousands(num[3:])"
      ]
    },
    {
      "cell_type": "code",
      "execution_count": 66,
      "metadata": {},
      "outputs": [],
      "source": [
        "def billions (num):\n",
        "    global value\n",
        "    num = str(num)\n",
        "  \n",
        "    #1000000000 one billion\n",
        "    if len(num) == 10:\n",
        "        if num[0]=='0' :\n",
        "            return millions(num[1:])\n",
        "        elif num[1:] == \"000000000\":\n",
        "            if num[0] == '1':\n",
        "                return \"مليار\"\n",
        "            elif num[0] == '2':\n",
        "                return \"مليارين\"\n",
        "            else:\n",
        "                return ahaad[int(num[0])]+\" مليار \"\n",
        "        else:\n",
        "            return  ahaad[int(num[0])]+\" مليار و \" + millions(num[1:])\n",
        "\n",
        "    #10000000000 ten billion\n",
        "    elif len(num) == 11:\n",
        "        if num[0]=='0' :\n",
        "            return billions(num[1:])\n",
        "        elif num[1:] == \"0000000000\":\n",
        "            return tens(num[:2])+\" مليار \"\n",
        "        else:\n",
        "            return tens(num[:2]) +\" مليار و \" + millions(num[2:])\n",
        "            \n",
        "    #100000000000 one hundred billion\n",
        "    elif len(num) == 12:\n",
        "        if num[0]=='0' :\n",
        "            return billions(num[1:])\n",
        "        elif num[1:] == \"00000000000\":\n",
        "            return hundrands(num[:3])+\" مليار \"\n",
        "        else:\n",
        "            return  hundrands(num[:3])  +\" مليار و \" + millions(num[3:])"
      ]
    },
    {
      "cell_type": "code",
      "execution_count": 67,
      "metadata": {},
      "outputs": [],
      "source": [
        "def trilions(num):\n",
        "    global value\n",
        "    num = str(num)\n",
        "\n",
        "\n",
        "    #1000000000000 one trillion\n",
        "    if len(num) == 13:\n",
        "        if num[1:] == \"000000000000\":\n",
        "            if num[0] == '1':\n",
        "                return \"بليون\"\n",
        "            elif num[0] == '2':\n",
        "                return \"بليونين\"\n",
        "            else:\n",
        "                return ahaad[int(num[0])]+\" بليون \"\n",
        "        else:\n",
        "            return  ahaad[int(num[0])]+\" بليون و \" + billions(num[1:])\n",
        "\n",
        "    #10000000000000 ten trillion\n",
        "    elif len(num) == 14:\n",
        "        if num[1:] == \"0000000000000\":\n",
        "            return tens(num[:2])+\" بليون \"\n",
        "        else:\n",
        "            return tens(num[:2]) +\" بليون و \" + billions(num[2:])\n",
        "            \n",
        "    #10000000000000 one trillion billion\n",
        "    elif len(num) == 15:\n",
        "        if num[1:] == \"0000000000000\":\n",
        "            return hundrands(num[:3])+\" بليون \"\n",
        "        else:\n",
        "            return  hundrands(num[:3])  +\" بليون و \" + billions(num[3:])"
      ]
    },
    {
      "cell_type": "code",
      "execution_count": 68,
      "metadata": {},
      "outputs": [],
      "source": [
        "def quadrillion(num):\n",
        "    \n",
        "    global value\n",
        "    num = str(num)\n",
        "\n",
        "    #1000000000000 one quadrillion\n",
        "    if len(num) == 16:\n",
        "        if num[1:] == \"000000000000\":\n",
        "            if num[0] == '1':\n",
        "                return \"بليار\"\n",
        "            elif num[0] == '2':\n",
        "                return \"بليارين\"\n",
        "            elif num[1:] == \"000000000000\":\n",
        "                return ahaad[int(num[0])]+\" بليار \"\n",
        "        elif num[1:5] == \"0000\":\n",
        "             return  ahaad[int(num[0])]+\" بليار و \" + billions(num[4:])\n",
        "        else:\n",
        "             return  ahaad[int(num[0])]+\" بليار و \" + trilions(num[1:])   \n",
        "\n",
        "    #10000000000000 ten quadrillion\n",
        "    elif len(num) == 17:\n",
        "        if num[1:] == \"00000000000000\":\n",
        "            return tens(num[:2])+\" بليار \"\n",
        "        elif num[2:4] == \"00\":\n",
        "            return tens(num[:2]) +\" بليار و \" + billions(num[5:])\n",
        "        else:\n",
        "            return tens(num[:2]) +\" بليار و \" + trilions(num[2:])\n",
        "\n",
        "            \n",
        "    \n",
        "    elif len(num) == 18:\n",
        "        if num[1:] == \"00000000000000\":\n",
        "            return hundrands(num[:3])+\" بليار \"\n",
        "        elif  num[3] == \"0\":\n",
        "            return  hundrands(num[:3])  +\" بليار و \" + billions(num[6:])\n",
        "        else:\n",
        "            return  hundrands(num[:3])  +\" بليار و \" + trilions(num[3:])\n",
        "\n",
        "            \n",
        "\n",
        "            "
      ]
    },
    {
      "cell_type": "code",
      "execution_count": 69,
      "metadata": {
        "id": "uOfikwuJsWx-"
      },
      "outputs": [],
      "source": [
        "def numeric2Txt(num):\n",
        "    global flag\n",
        "    global value\n",
        "    \n",
        "    if type(num) is int or type(num) is float:\n",
        "        num = str(num)\n",
        "\n",
        "        if num.find('.')>-1:\n",
        "         value= numeric2Txt(num[: num.find('.')])+' فاصلة '+numeric2Txt(num[num.find('.')+1:] )\n",
        "        return value  \n",
        "\n",
        "\n",
        "    if len(num) == 1 : \n",
        "        value= ahaad[int(num)]\n",
        "\n",
        "    elif len(num)==2:\n",
        "        value=tens(num)\n",
        "    \n",
        "    elif len(num)==3:\n",
        "        value=hundrands(num)\n",
        "        \n",
        "    elif len(num)>= 4 and len(num)<= 6:\n",
        "        value=thousands(num)\n",
        "    \n",
        "    elif len(num) >=7 and len(num)<=9:\n",
        "        value=millions(num)\n",
        "\n",
        "    elif len(num) >=10 and len(num)<=12:\n",
        "        value=billions(num)\n",
        "    elif len(num) >=13 and len(num) <=15:\n",
        "        value=trilions(num)\n",
        "    elif len(num) >=16 and len(num) <=18:\n",
        "        value=quadrillion(num)\n",
        "\n",
        "  \n",
        "\n",
        "    return value"
      ]
    },
    {
      "cell_type": "code",
      "execution_count": 70,
      "metadata": {
        "colab": {
          "base_uri": "https://localhost:8080/"
        },
        "id": "zdMrey0vs_1A",
        "outputId": "6a8d7dc2-387d-48cd-bba1-d01719de4ea8"
      },
      "outputs": [
        {
          "name": "stdout",
          "output_type": "stream",
          "text": [
            "عشرة فاصلة واحد\n"
          ]
        }
      ],
      "source": [
        "print(numeric2Txt(10.1))\n"
      ]
    },
    {
      "cell_type": "code",
      "execution_count": null,
      "metadata": {},
      "outputs": [],
      "source": []
    }
  ],
  "metadata": {
    "colab": {
      "collapsed_sections": [],
      "name": "Numbers_to_Text.ipynb",
      "provenance": []
    },
    "kernelspec": {
      "display_name": "Python 3.9.12 ('base')",
      "language": "python",
      "name": "python3"
    },
    "language_info": {
      "codemirror_mode": {
        "name": "ipython",
        "version": 3
      },
      "file_extension": ".py",
      "mimetype": "text/x-python",
      "name": "python",
      "nbconvert_exporter": "python",
      "pygments_lexer": "ipython3",
      "version": "3.9.12"
    },
    "vscode": {
      "interpreter": {
        "hash": "5e46a46a43d182c0cfdcb9ceb482298eb29c8f8d25cb16e96df82fc26a2978f4"
      }
    }
  },
  "nbformat": 4,
  "nbformat_minor": 0
}
