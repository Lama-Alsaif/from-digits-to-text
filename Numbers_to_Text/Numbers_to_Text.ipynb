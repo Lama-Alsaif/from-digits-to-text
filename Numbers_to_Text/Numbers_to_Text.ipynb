{
  "cells": [
    {
      "cell_type": "code",
      "execution_count": 1,
      "metadata": {
        "id": "_e8nH76XqVJy"
      },
      "outputs": [],
      "source": [
        "#  as leenas\n",
        "# this contains the dictionaries were the numbers will be converted into words\n",
        "ahaad = {0:\"\", \n",
        "         1:\"واحد\", 2:\"اثنين\", 3:\"ثلاثة\", 4:\"اربعة\", 5:\"خمسة\",\n",
        "         6:\"ستة\",\n",
        "         7:\"سبعة\"\n",
        "         , 8:\"ثمانية\"\n",
        "         , 9:\"تسعة\"\n",
        "         }\n",
        "\n",
        "taash = { 11:\"احدعش\", 12:\"اثنعش\", 13:\"ثلاثطعش\", 14:\"اربعطعش\", 15:\"خمسطعش\", 16:\"ستطعش\",\n",
        "         17:\"سبعطعش\", 18:\"ثمانطعش\", 19:\"تسعطعش\",\n",
        "          10 : \"عشرة\"}\n",
        "\n",
        "\n",
        "ashrat = {20:\"عشرين\", \n",
        "         50:\"خمسين\", 30:\"ثلاثين\",40:\"اربعين\", 50:\"خمسين\",\n",
        "         60:\"ستين\",\n",
        "         70:\"سبعين\"\n",
        "         , 80:\"ثمانين\"\n",
        "         , 90:\"تسعين\"\n",
        "         \n",
        "         }\n",
        "\n",
        "myaat = {100:\"مية\", \n",
        "         200:\"ميتين\"\n",
        "         , 300:\"ثلاثمية\"\n",
        "         ,400:\"اربعمية\"\n",
        "         , 500:\"خمسمية\",\n",
        "         600:\"ستمية\",\n",
        "         700:\"سبعمية\"\n",
        "         , 800:\"ثمانمية\"\n",
        "         , 900:\"تسعمية\"\n",
        "         }\n",
        "\n",
        "olouf = {1000:\"الف\", \n",
        "         2000:\"الفين\"\n",
        "         , 3000:\" ثلاث آلاف\"\n",
        "         ,4000:\"اربع آلاف\"\n",
        "         , 5000:\"خمس آلاف\",\n",
        "         6000:\"ست آلاف\",\n",
        "         7000:\"سبع آلاف\"\n",
        "         , 8000:\"ثمان آلاف\"\n",
        "         , 9000:\"تسع آلاف\"\n",
        "         }\n",
        "\n",
        "tenOlouf = {10000:\"عشر آلاف\", \n",
        "         20000:\"عشرين ألف\"\n",
        "         , 30000:\" ثلاثين ألف\"\n",
        "         ,40000:\"اربعين ألف\"\n",
        "         , 50000:\"خمسين ألف\",\n",
        "         60000:\"ستين ألف\",\n",
        "         70000:\"سبعين ألف\"\n",
        "         , 80000:\"ثمانين ألف\"\n",
        "         , 90000:\"تسعين ألف\"\n",
        "         }\n",
        "value=\"\"\n",
        "flag= \"\" #spot bugs"
      ]
    },
    {
      "cell_type": "code",
      "execution_count": 2,
      "metadata": {
        "colab": {
          "base_uri": "https://localhost:8080/"
        },
        "id": "LyIkaB5tqwAl",
        "outputId": "b5731a73-57e2-4f8b-fbc1-495a82f1948f"
      },
      "outputs": [
        {
          "name": "stdout",
          "output_type": "stream",
          "text": [
            "ثلاثطعش\n"
          ]
        }
      ],
      "source": [
        "# test the above code if it gives the right numbers\n",
        "print(taash[13])"
      ]
    },
    {
      "cell_type": "markdown",
      "metadata": {
        "id": "x9RTfPu0rqv-"
      },
      "source": [
        "this method deals with the last 2 digits from the righ(**tens**)\n",
        "\n",
        "---\n",
        "\n"
      ]
    },
    {
      "cell_type": "code",
      "execution_count": 3,
      "metadata": {
        "id": "9OSDqAY8q-M2"
      },
      "outputs": [],
      "source": [
        "def tens(num):\n",
        "    global flag\n",
        "    num = str(num)#convert number to string \n",
        "    #test if number dosn't countain any tens\n",
        "    if num[0]==\"0\":\n",
        "        if num[1] != \"0\":\n",
        "            return ahaad[int(num[1])]\n",
        "    #else :\n",
        "    #  return \" \"\n",
        "\n",
        "    \n",
        "    #if it dose have tens then check if it belongs to teens\n",
        "    if num[0] == \"1\":\n",
        "        flag=\"2\"\n",
        "        return taash[int(num)]\n",
        "    \n",
        "    elif num[1] == \"0\": \n",
        "        flag=\"3\"\n",
        "        return ashrat[int(num)]\n",
        "        \n",
        "    else:#if it containes a number then print it and take the values from the dictionary above \n",
        "        return (ahaad[int(num[len(num)-1])]+\" و \" + ashrat[int(num[len(num)-2]+\"0\")])"
      ]
    },
    {
      "cell_type": "markdown",
      "metadata": {
        "id": "DCx9X9UwSfx7"
      },
      "source": [
        "this method deals with the last 3 digits from the righ(**hunderds**)\n",
        "\n"
      ]
    },
    {
      "cell_type": "code",
      "execution_count": 4,
      "metadata": {
        "id": "MZZjcr-irpBb"
      },
      "outputs": [],
      "source": [
        "def hundrands(num):\n",
        "    global flag\n",
        "    global value\n",
        "    num = str(num)#convert number to string \n",
        "    #test if number dosn't countain any hunderds\n",
        "\n",
        "    if num[0]=='0':\n",
        "        flag=\"fat bug\"\n",
        "\n",
        "        return tens(num[1:])\n",
        "    elif (num[1]==\"0\" and num[2]==\"0\"):#100, 200, 300, ...\n",
        "        flag=\"here1\"\n",
        "        return myaat[int(num)]\n",
        "         \n",
        "    \n",
        "    elif num[1]==\"0\" and num[2]!='0':#102,103,205,...\n",
        "        flag=\"here2\"\n",
        "        return myaat[int(num[0:2]+\"0\")]+\" و \" +ahaad[int(num[2])]\n",
        "    \n",
        "    elif num[1]==\"1\" :#112, 212, 114, ...\n",
        "        flag=\"here3\"\n",
        "        return myaat[int(num[0]+\"00\")]+\" و \" +taash[int(num[1]+num[2])] \n",
        "    \n",
        "    elif num[2]=='0':#120, 230, 130, ...\n",
        "        flag=\"here4\"\n",
        "        return myaat[int(num[0]+\"00\")]+\" و \" +ashrat[int(num[1]+\"0\")]\n",
        "    \n",
        "    else :\n",
        "        return myaat[int(num[0]+\"00\")]+\" و \"+tens(num[1:])"
      ]
    },
    {
      "cell_type": "markdown",
      "metadata": {
        "id": "w23MBDgMbpNs"
      },
      "source": [
        "this method deals with the last 4 digits from the righ(**thousands**)\n"
      ]
    },
    {
      "cell_type": "code",
      "execution_count": 5,
      "metadata": {
        "id": "qrd3apEoSfx9"
      },
      "outputs": [],
      "source": [
        "def thousands(num):\n",
        "    global value\n",
        "    num = str(num)#convert number to string \n",
        "    #test if number dosn't countain any thousands\n",
        "    if num[0]=='0':\n",
        "        return hundrands(num[1:])\n",
        "\n",
        "    #thousands\n",
        "    if len(num) == 4:\n",
        "        if num[1:] == \"000\":\n",
        "            return olouf[int(num)]\n",
        "        else:\n",
        "            return olouf[int(num[0]+\"000\")]+\" و \"+hundrands(num[1:])\n",
        "    \n",
        "    #ten thousands\n",
        "    if len(num)==5:\n",
        "        if(num[1:]=='0000'):\n",
        "            return tenOlouf[int(num)]\n",
        "        elif num[1] ==\"0\":\n",
        "            return tenOlouf[int(num[0]+\"0000\")]+\" و \"+hundrands(num[2:])\n",
        "\n",
        "        elif num[1]!=\"0\" and num[2:]==\"000\":\n",
        "         return taash[int(num[:2])]+\" الف\"\n",
        "        else:\n",
        "          return taash[int(num[:2])]+\"الف و\"+hundrands(num[2:])\n",
        "\n",
        "    #hundred thousand\n",
        "    if len(num)==6:\n",
        "        if(num[1:]=='00000'):\n",
        "            return myaat[int(num[:3])]+\" الف\"\n",
        "        else:\n",
        "          print(num[:3])\n",
        "          print(num[3:])\n",
        "          return hundrands(num[:3])+ \"الف و \"+hundrands(num[3:])\n"
      ]
    },
    {
      "cell_type": "code",
      "execution_count": 6,
      "metadata": {
        "id": "uOfikwuJsWx-"
      },
      "outputs": [],
      "source": [
        "def numeric2Txt(num):\n",
        "    global flag\n",
        "    global value\n",
        "    if type(num) is int or type(num) is float:\n",
        "        num = str(num)\n",
        "    if len(num) == 1 : \n",
        "        flag=\"1\"\n",
        "        value= ahaad[int(num)]\n",
        "\n",
        "    elif len(num)==2:\n",
        "        value=tens(num)\n",
        "    \n",
        "    elif len(num)==3:\n",
        "        value=hundrands(num)\n",
        "        \n",
        "    elif len(num)>= 4 and len(num)<= 6:\n",
        "        value=thousands(num)\n",
        "\n",
        "    print(value)"
      ]
    },
    {
      "cell_type": "code",
      "execution_count": 8,
      "metadata": {
        "colab": {
          "base_uri": "https://localhost:8080/"
        },
        "id": "zdMrey0vs_1A",
        "outputId": "6a8d7dc2-387d-48cd-bba1-d01719de4ea8"
      },
      "outputs": [
        {
          "name": "stdout",
          "output_type": "stream",
          "text": [
            "خمسطعشالف وستمية\n"
          ]
        }
      ],
      "source": [
        "numeric2Txt(15600)"
      ]
    },
    {
      "cell_type": "code",
      "execution_count": 7,
      "metadata": {
        "id": "yG_W-7_9ZeuW"
      },
      "outputs": [],
      "source": []
    }
  ],
  "metadata": {
    "colab": {
      "collapsed_sections": [],
      "name": "Numbers_to_Text.ipynb",
      "provenance": []
    },
    "kernelspec": {
      "display_name": "Python 3 (ipykernel)",
      "language": "python",
      "name": "python3"
    },
    "language_info": {
      "codemirror_mode": {
        "name": "ipython",
        "version": 3
      },
      "file_extension": ".py",
      "mimetype": "text/x-python",
      "name": "python",
      "nbconvert_exporter": "python",
      "pygments_lexer": "ipython3",
      "version": "3.9.7"
    }
  },
  "nbformat": 4,
  "nbformat_minor": 0
}
